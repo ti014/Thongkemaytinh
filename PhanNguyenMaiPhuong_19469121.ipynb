{
 "cells": [
  {
   "cell_type": "markdown",
   "metadata": {
    "id": "pmD394_9Ub6n"
   },
   "source": [
    "# Bài Tập"
   ]
  },
  {
   "cell_type": "code",
   "execution_count": 2,
   "metadata": {
    "id": "4EZ9SkE6VCdV"
   },
   "outputs": [],
   "source": [
    "# Khai báo thư viện thông dụng\n",
    "import numpy as np\n",
    "import pandas as pd\n",
    "import matplotlib.pyplot as plt\n",
    "import seaborn as sns\n",
    "import math\n",
    "# Import các distribution packages từ thư viện scipy\n",
    "from scipy.stats import norm\n",
    "from scipy import stats as stats"
   ]
  },
  {
   "cell_type": "markdown",
   "metadata": {
    "id": "Rf_cpWCsUb6t"
   },
   "source": [
    "### Bài 1: Tạo quần thể mô phỏng\n",
    "\n",
    "Bạn hãy tạo một mẫu gồm 10000 phần tử mô phỏng chiều cao của nam thanh niên có giá trị từ 120cm - 200cm. Bạn hãy lưu kết quả vào biến **POP**.\n",
    "\n",
    "Tính:\n",
    "- a. Chiều cao trung bình (kỳ vọng) của quần thể và độ lệch chuẩn về chiều cao của quần thể.\n",
    "- b. Tính tỷ lệ người cao trong quần thể, biết rằng thanh niên có chiều cao từ 180 trở lên được gọi là cao.\n",
    "- c. Vẽ histogram về chiều cao của quần thể. Theo bạn quần thể có phân phối chuẩn hay không?\n",
    "- d. Thử vẽ histogram và đồ thị hàm mật độ của phân phối chuẩn sử dụng tham số loc và scale bằng với kỳ vọng và độ lệch chuẩn của quần thể."
   ]
  },
  {
   "cell_type": "code",
   "execution_count": 3,
   "metadata": {
    "colab": {
     "base_uri": "https://localhost:8080/"
    },
    "id": "fBEowtIoUb6u",
    "outputId": "2901a277-a17c-4b64-a635-e535a6d5220d"
   },
   "outputs": [
    {
     "name": "stdout",
     "output_type": "stream",
     "text": [
      "Chiều cao trung bình của Quần Thể : 159.18\n",
      "Độ lệch chuẩn về chiều cao của Quần Thể : 23.09\n"
     ]
    }
   ],
   "source": [
    "POP = np.random.randint(120,200,size=10000)\n",
    "\n",
    "# Câu a\n",
    "\n",
    "mean_of_POP = np.mean(POP).round(2)\n",
    "print('Chiều cao trung bình của Quần Thể : {}'.format(mean_of_POP))\n",
    "std_of_POP = np.std(POP).round(2)\n",
    "print('Độ lệch chuẩn về chiều cao của Quần Thể : {}'.format(std_of_POP))"
   ]
  },
  {
   "cell_type": "code",
   "execution_count": 4,
   "metadata": {
    "colab": {
     "base_uri": "https://localhost:8080/"
    },
    "id": "6ZpZMGCEWTY0",
    "outputId": "42b1f992-f342-41f1-f360-2e2ce3342d65"
   },
   "outputs": [
    {
     "name": "stdout",
     "output_type": "stream",
     "text": [
      "Tỷ lệ người cao của Quần Thể : 23.58\n"
     ]
    }
   ],
   "source": [
    "# Câu b\n",
    "\n",
    "height_POP = []\n",
    "\n",
    "for i in POP:\n",
    "  if POP[i] >= 180:\n",
    "    height_POP.append(i)\n",
    "\n",
    "print('Tỷ lệ người cao của Quần Thể : {}'.format(len(height_POP)*100/len(POP)))"
   ]
  },
  {
   "cell_type": "code",
   "execution_count": 5,
   "metadata": {
    "colab": {
     "base_uri": "https://localhost:8080/",
     "height": 282
    },
    "id": "64JyiGTDXXvz",
    "outputId": "6877b0c2-4478-4ba3-bbd7-d7ceee80793b"
   },
   "outputs": [
    {
     "data": {
      "image/png": "[encoded data removed]",
      "text/plain": [
       "<Figure size 432x288 with 1 Axes>"
      ]
     },
     "metadata": {
      "needs_background": "light"
     },
     "output_type": "display_data"
    }
   ],
   "source": [
    "# Câu c\n",
    "\n",
    "sns.histplot(POP, bins=50)\n",
    "plt.title('Histogram về chiều cao của quần thể')\n",
    "plt.show()"
   ]
  },
  {
   "cell_type": "markdown",
   "metadata": {
    "id": "AFnWwjbLZRaE"
   },
   "source": [
    "**Nhận xét:** Quần thể này không phải là phân phối chuẩn"
   ]
  },
  {
   "cell_type": "code",
   "execution_count": 6,
   "metadata": {
    "colab": {
     "base_uri": "https://localhost:8080/",
     "height": 298
    },
    "id": "FdAfRau_Zk4r",
    "outputId": "553288b2-3e41-4d9a-c2dd-54c95095e353"
   },
   "outputs": [
    {
     "name": "stderr",
     "output_type": "stream",
     "text": [
      "No handles with labels found to put in legend.\n"
     ]
    },
    {
     "data": {
      "image/png": "[encoded data removed]",
      "text/plain": [
       "<Figure size 432x288 with 1 Axes>"
      ]
     },
     "metadata": {
      "needs_background": "light"
     },
     "output_type": "display_data"
    }
   ],
   "source": [
    "# Câu d\n",
    "POP.sort()\n",
    "y = norm.pdf(POP, loc= mean_of_POP, scale= std_of_POP)\n",
    "\n",
    "plt.plot(POP, y)\n",
    "plt.title('Đồ thị hàm mật độ')\n",
    "plt.legend()\n",
    "plt.show()"
   ]
  },
  {
   "cell_type": "markdown",
   "metadata": {
    "id": "TFaKBe1wUb6u"
   },
   "source": [
    "### Bài 2: Lấy mẫu cỡ 20\n",
    "\n",
    "Bạn hãy lấy một mẫu kích thước 20 phần từ. Tính\n",
    "- a. Trung bình mẫu, và độ lệch chuẩn của mẫu\n",
    "- b. Tỷ lệ người cao của mẫu\n",
    "- c. Vẽ histogram của mẫu\n",
    "- d. Thử vẽ đồ thị hàm mật độ của phân phối chuẩn với tham số loc và scale bằng với giá trị trung bình và độ lệch chuẩn và chiều cao của mẫu. Bạn có nhận xét gì không?"
   ]
  },
  {
   "cell_type": "code",
   "execution_count": 7,
   "metadata": {
    "colab": {
     "base_uri": "https://localhost:8080/"
    },
    "id": "RvkzYifeUb6v",
    "outputId": "177010fe-86ba-405b-bc0f-f9177e8555b6"
   },
   "outputs": [
    {
     "name": "stdout",
     "output_type": "stream",
     "text": [
      "Chiều cao trung bình của Quần Thể : 156.0\n",
      "Độ lệch chuẩn về chiều cao của Quần Thể : 22.8\n"
     ]
    }
   ],
   "source": [
    "sample1 = np.random.choice(POP, size = 20, replace = True)\n",
    "\n",
    "# Câu a\n",
    "\n",
    "mean_of_sample1 = np.mean(sample1).round(2)\n",
    "print('Chiều cao trung bình của Quần Thể : {}'.format(mean_of_sample1))\n",
    "std_of_sample1 = np.std(sample1).round(2)\n",
    "print('Độ lệch chuẩn về chiều cao của Quần Thể : {}'.format(std_of_sample1))"
   ]
  },
  {
   "cell_type": "code",
   "execution_count": 8,
   "metadata": {
    "colab": {
     "base_uri": "https://localhost:8080/"
    },
    "id": "GgWdU3fvgfRW",
    "outputId": "ea83f315-7aa5-4085-9cff-109b0dc91244"
   },
   "outputs": [
    {
     "name": "stdout",
     "output_type": "stream",
     "text": [
      "Tỷ lệ người cao của Quần Thể : 20.0\n"
     ]
    }
   ],
   "source": [
    "# Câu b\n",
    "\n",
    "height_sample1 = []\n",
    "\n",
    "for i in sample1:\n",
    "  if i>= 180:\n",
    "    height_sample1.append(i)\n",
    "\n",
    "print('Tỷ lệ người cao của Quần Thể : {}'.format(len(height_sample1)*100/len(sample1)))"
   ]
  },
  {
   "cell_type": "code",
   "execution_count": 9,
   "metadata": {
    "colab": {
     "base_uri": "https://localhost:8080/",
     "height": 282
    },
    "id": "gzigtTebh1S-",
    "outputId": "25a9b50f-d468-45bc-91c5-d294a28671cb"
   },
   "outputs": [
    {
     "data": {
      "image/png": "[encoded data removed]",
      "text/plain": [
       "<Figure size 432x288 with 1 Axes>"
      ]
     },
     "metadata": {
      "needs_background": "light"
     },
     "output_type": "display_data"
    }
   ],
   "source": [
    "# Câu c\n",
    "\n",
    "sns.histplot(sample1)\n",
    "plt.title('Histogram về chiều cao của quần thể')\n",
    "plt.show()"
   ]
  },
  {
   "cell_type": "code",
   "execution_count": 10,
   "metadata": {
    "colab": {
     "base_uri": "https://localhost:8080/",
     "height": 298
    },
    "id": "-ufK9gwQiDq_",
    "outputId": "3bedf40e-4e31-428d-fe37-61684a18ebd2"
   },
   "outputs": [
    {
     "name": "stderr",
     "output_type": "stream",
     "text": [
      "No handles with labels found to put in legend.\n"
     ]
    },
    {
     "data": {
      "image/png": "[encoded data removed]",
      "text/plain": [
       "<Figure size 432x288 with 1 Axes>"
      ]
     },
     "metadata": {
      "needs_background": "light"
     },
     "output_type": "display_data"
    }
   ],
   "source": [
    "# Câu d\n",
    "sample1.sort()\n",
    "y1 = norm.pdf(sample1, loc= mean_of_sample1, scale= std_of_sample1)\n",
    "\n",
    "plt.plot(sample1, y1)\n",
    "plt.title('Đồ thị hàm mật độ')\n",
    "plt.legend()\n",
    "plt.show()"
   ]
  },
  {
   "cell_type": "markdown",
   "metadata": {
    "id": "050X-wxhUb6v"
   },
   "source": [
    "### Bài 3: Lấy mẫu cỡ 100\n",
    "\n",
    "Lặp lại thí nghiệm bài 2 với cỡ mẫu là 100"
   ]
  },
  {
   "cell_type": "code",
   "execution_count": 11,
   "metadata": {
    "colab": {
     "base_uri": "https://localhost:8080/"
    },
    "id": "sEbu910UgeVp",
    "outputId": "67abeb67-8cc4-4855-9f2c-9262cc27d28e"
   },
   "outputs": [
    {
     "name": "stdout",
     "output_type": "stream",
     "text": [
      "Chiều cao trung bình của Quần Thể : 155.74\n",
      "Độ lệch chuẩn về chiều cao của Quần Thể : 25.0\n"
     ]
    }
   ],
   "source": [
    "sample2 = np.random.choice(POP, size = 100, replace = True)\n",
    "\n",
    "# Câu a\n",
    "\n",
    "mean_of_sample2 = np.mean(sample2).round(2)\n",
    "print('Chiều cao trung bình của Quần Thể : {}'.format(mean_of_sample2))\n",
    "std_of_sample2 = np.std(sample2).round(2)\n",
    "print('Độ lệch chuẩn về chiều cao của Quần Thể : {}'.format(std_of_sample2))"
   ]
  },
  {
   "cell_type": "code",
   "execution_count": 12,
   "metadata": {
    "colab": {
     "base_uri": "https://localhost:8080/"
    },
    "id": "a9a8Syb3Ub6v",
    "outputId": "d2ac29a2-2af1-4783-e3ce-cd58d85ab9d5"
   },
   "outputs": [
    {
     "name": "stdout",
     "output_type": "stream",
     "text": [
      "Tỷ lệ người cao của Quần Thể : 23.0\n"
     ]
    }
   ],
   "source": [
    "# Câu b\n",
    "\n",
    "height_sample2 = []\n",
    "\n",
    "for i in sample2:\n",
    "  if i>= 180:\n",
    "    height_sample2.append(i)\n",
    "\n",
    "print('Tỷ lệ người cao của Quần Thể : {}'.format(len(height_sample2)*100/len(sample2)))"
   ]
  },
  {
   "cell_type": "code",
   "execution_count": 13,
   "metadata": {
    "colab": {
     "base_uri": "https://localhost:8080/",
     "height": 282
    },
    "id": "BFulpi9VkS6O",
    "outputId": "17b3da6f-a613-4e38-bbc7-f9b8cad4b45b"
   },
   "outputs": [
    {
     "data": {
      "image/png": "[encoded data removed]",
      "text/plain": [
       "<Figure size 432x288 with 1 Axes>"
      ]
     },
     "metadata": {
      "needs_background": "light"
     },
     "output_type": "display_data"
    }
   ],
   "source": [
    "# Câu c\n",
    "\n",
    "sns.histplot(sample2)\n",
    "plt.title('Histogram về chiều cao của quần thể')\n",
    "plt.show()"
   ]
  },
  {
   "cell_type": "code",
   "execution_count": 14,
   "metadata": {
    "colab": {
     "base_uri": "https://localhost:8080/",
     "height": 298
    },
    "id": "HyDSbO7zkYAk",
    "outputId": "9507e158-26b0-4924-f30e-0eb40095b1f3"
   },
   "outputs": [
    {
     "name": "stderr",
     "output_type": "stream",
     "text": [
      "No handles with labels found to put in legend.\n"
     ]
    },
    {
     "data": {
      "image/png": "[encoded data removed]",
      "text/plain": [
       "<Figure size 432x288 with 1 Axes>"
      ]
     },
     "metadata": {
      "needs_background": "light"
     },
     "output_type": "display_data"
    }
   ],
   "source": [
    "# Câu d\n",
    "sample2.sort()\n",
    "y2 = norm.pdf(sample2, loc= mean_of_sample2, scale= std_of_sample2)\n",
    "\n",
    "plt.plot(sample2, y2)\n",
    "plt.title('Đồ thị hàm mật độ')\n",
    "plt.legend()\n",
    "plt.show()"
   ]
  },
  {
   "cell_type": "markdown",
   "metadata": {
    "id": "rv7-iGS-Ub6v"
   },
   "source": [
    "### Bài 4: Khảo sát phân phối của trung bình mẫu\n",
    "\n",
    "- a. Thực hiện bài 2 100 lần, mỗi lần bạn tính được trung bình mẫu. Vẽ đồ thị histogram cho 100 trung bình mẫu bạn tính được.\n",
    "- b. Thực hiện bài 3 100 lần, mỗi lần bạn tính được trung bình mẫu. Vẽ đồ thị histogram cho 100 trung bình mẫu bạn tính được.\n",
    "- c. Vẽ histogram của hai câu a, b trong cùng một hình để so sánh. Theo bạn hình dạng của histogram thay đổi nói lên điều gì?\n",
    "\n",
    "Gợi ý: tạo một danh sách rỗng để chứa các trung bình mẫu tính được, sử dụng hàm append() để thêm giá trị trung bình vào danh sách sau mỗi lần tính."
   ]
  },
  {
   "cell_type": "code",
   "execution_count": 15,
   "metadata": {
    "colab": {
     "base_uri": "https://localhost:8080/",
     "height": 285
    },
    "id": "A9HcuGvzUb6w",
    "outputId": "164724be-1af8-41b3-d781-b58d54017ff9"
   },
   "outputs": [
    {
     "data": {
      "text/plain": [
       "<AxesSubplot:ylabel='Count'>"
      ]
     },
     "execution_count": 15,
     "metadata": {},
     "output_type": "execute_result"
    },
    {
     "data": {
      "image/png": "[encoded data removed]",
      "text/plain": [
       "<Figure size 432x288 with 1 Axes>"
      ]
     },
     "metadata": {
      "needs_background": "light"
     },
     "output_type": "display_data"
    }
   ],
   "source": [
    "# câu a\n",
    "array = []\n",
    "for i in range(100):\n",
    "        random_sample = np.random.choice(POP, size=20, replace=True)\n",
    "        random_sample_mean = np.mean(random_sample)\n",
    "        array.append(random_sample_mean)\n",
    "\n",
    "sns.histplot(array)"
   ]
  },
  {
   "cell_type": "code",
   "execution_count": 16,
   "metadata": {
    "colab": {
     "base_uri": "https://localhost:8080/",
     "height": 283
    },
    "id": "L6AKlmHAmYZV",
    "outputId": "dc46ac6f-ba36-41c9-aa2e-e6b8889ec1b9"
   },
   "outputs": [
    {
     "data": {
      "text/plain": [
       "<AxesSubplot:ylabel='Count'>"
      ]
     },
     "execution_count": 16,
     "metadata": {},
     "output_type": "execute_result"
    },
    {
     "data": {
      "image/png": "[encoded data removed]",
      "text/plain": [
       "<Figure size 432x288 with 1 Axes>"
      ]
     },
     "metadata": {
      "needs_background": "light"
     },
     "output_type": "display_data"
    }
   ],
   "source": [
    "# câu b\n",
    "array1 = []\n",
    "for i in range(100):\n",
    "        random_sample1= np.random.choice(POP, size=100, replace=True)\n",
    "        random_sample_mean1 = np.mean(random_sample1)\n",
    "        array1.append(random_sample_mean1)\n",
    "\n",
    "sns.histplot(array1)"
   ]
  },
  {
   "cell_type": "code",
   "execution_count": 17,
   "metadata": {
    "colab": {
     "base_uri": "https://localhost:8080/",
     "height": 537
    },
    "id": "0IEeL512nVzm",
    "outputId": "fbefd4ad-5cd2-4d8a-9c76-8eb6956fa909"
   },
   "outputs": [
    {
     "data": {
      "image/png": "[encoded data removed]",
      "text/plain": [
       "<Figure size 936x648 with 2 Axes>"
      ]
     },
     "metadata": {
      "needs_background": "light"
     },
     "output_type": "display_data"
    }
   ],
   "source": [
    "# Câu c\n",
    "plt.figure(figsize=(13,9))\n",
    "plt.subplot(1, 2, 1)\n",
    "sns.histplot(array)\n",
    "plt.subplot(1, 2, 2)\n",
    "sns.histplot(array1);"
   ]
  },
  {
   "cell_type": "markdown",
   "metadata": {
    "id": "uOejTSp6pIV2"
   },
   "source": [
    "- Nhận xét: \n",
    "  - Qua 2 đồ thị trên ta có thể nhận thấy kích thước mẫu có liên quan đến độ chính xác của ước lượng điểm. \n",
    "  - Phân phối chuẩn của đồ thị 2 sẽ tốt hơn của đồ thị 1\n",
    "- Kết luận: Để tăng độ chính xác của ước lượng ta có thể tăng kích thước của quần thể"
   ]
  },
  {
   "cell_type": "markdown",
   "metadata": {
    "id": "rYFzeib3Ub6w"
   },
   "source": [
    "### Bài 5: Khảo sát tỷ lệ mẫu\n",
    "\n",
    "- Bạn hãy mô phỏng 1000 lần lấy mẫu có kích cỡ 100. Vẽ histogram tỷ lệ người cao của các mẫu\n",
    "- Bạn hãy mô phỏng 1000 lần lấy mẫu có kích cỡ 500. Vẽ histogram tỷ lệ người cao của các mẫu"
   ]
  },
  {
   "cell_type": "code",
   "execution_count": 18,
   "metadata": {
    "colab": {
     "base_uri": "https://localhost:8080/",
     "height": 265
    },
    "id": "LeB18osxUb6w",
    "outputId": "a9c91c35-7103-4aa3-dc1b-b198f9792fe3"
   },
   "outputs": [
    {
     "data": {
      "image/png": "[encoded data removed]",
      "text/plain": [
       "<Figure size 432x288 with 1 Axes>"
      ]
     },
     "metadata": {
      "needs_background": "light"
     },
     "output_type": "display_data"
    }
   ],
   "source": [
    "arr_percent = []\n",
    "for i in range(1000):\n",
    "  sp = np.random.choice(POP , size = 100 , replace =  True)\n",
    "  sum = 0 \n",
    "  for i in sp:\n",
    "    if i >=180:\n",
    "      sum+=1\n",
    "  percent = sum*100/len(sp)\n",
    "  arr_percent.append(percent)\n",
    "sns.histplot(arr_percent);"
   ]
  },
  {
   "cell_type": "code",
   "execution_count": 19,
   "metadata": {
    "colab": {
     "base_uri": "https://localhost:8080/",
     "height": 265
    },
    "id": "w6NHrfKwqjzU",
    "outputId": "0a751747-7efa-4854-fb60-329abdeb0c68"
   },
   "outputs": [
    {
     "data": {
      "image/png": "[encoded data removed]",
      "text/plain": [
       "<Figure size 432x288 with 1 Axes>"
      ]
     },
     "metadata": {
      "needs_background": "light"
     },
     "output_type": "display_data"
    }
   ],
   "source": [
    "arr_percent1 = []\n",
    "for i in range(1000):\n",
    "  sp = np.random.choice(POP , size = 500 , replace =  True)\n",
    "  sum = 0 \n",
    "  for i in sp:\n",
    "    if i >=180:\n",
    "      sum+=1\n",
    "  percent1 = sum*100/len(sp)\n",
    "  arr_percent1.append(percent1)\n",
    "sns.histplot(arr_percent1);"
   ]
  },
  {
   "cell_type": "markdown",
   "metadata": {
    "id": "6VH1T1Z2Ub6w"
   },
   "source": [
    "### Bài 6: Khảo sát phương sai mẫu\n",
    "\n",
    "Bạn hãy mô phỏng 1000 lần lấy mẫu có kích cỡ 100. Vẽ histogram đại lượng phương sai của các mẫu (Phương sai bằng bình phương độ lệch chuẩn)"
   ]
  },
  {
   "cell_type": "code",
   "execution_count": 20,
   "metadata": {
    "colab": {
     "base_uri": "https://localhost:8080/",
     "height": 282
    },
    "id": "eZCEu0PUUb6x",
    "outputId": "03697c98-d9bc-4c4f-aa40-068d2beeb08b"
   },
   "outputs": [
    {
     "data": {
      "text/plain": [
       "<AxesSubplot:ylabel='Count'>"
      ]
     },
     "execution_count": 20,
     "metadata": {},
     "output_type": "execute_result"
    },
    {
     "data": {
      "image/png": "[encoded data removed]",
      "text/plain": [
       "<Figure size 432x288 with 1 Axes>"
      ]
     },
     "metadata": {
      "needs_background": "light"
     },
     "output_type": "display_data"
    }
   ],
   "source": [
    "array3 = []\n",
    "for i in range(1000):\n",
    "        random_sample3 = np.random.choice(POP, size=100, replace=True)\n",
    "        random_sample_std3 = np.std(random_sample3)\n",
    "        array3.append(random_sample_std3*random_sample_std3)\n",
    "\n",
    "sns.histplot(array3)"
   ]
  },
  {
   "cell_type": "markdown",
   "metadata": {
    "id": "8hgsbvyaUb6x"
   },
   "source": [
    "### Bài 7:  Bài Tập Ước Lượng \n",
    "\n",
    "Khảo sát cân nặng (kg) của gà khi xuất chuồng, người ta cân một số con và có kết quả như sau:\n",
    "\n",
    "> 2.1, 1.8, 2.0, 2.3, 1.7, 1.5, 2.0, 2.2, 1.8\n",
    "\n",
    "Giả sử cân nặng của gà là biến ngẫu nhiên có phân phối chuẩn. Hãy lập khoảng tin cậy cho cân nặng trung bình của  khi xuất chuồng với độ tin cậy là 95%. Trong 2 trường hợp:\n",
    "\n",
    "a, Biết $\\sigma = 0.3$\n",
    "\n",
    "b, Không biết $\\sigma$\n"
   ]
  },
  {
   "cell_type": "code",
   "execution_count": 22,
   "metadata": {},
   "outputs": [
    {
     "name": "stdout",
     "output_type": "stream",
     "text": [
      "Biên độ lỗi với độ tin cậy là 95%: 1.9279546893798354\n"
     ]
    }
   ],
   "source": [
    "#Cau a\n",
    "AA = [2.1, 1.8, 2.0, 2.3, 1.7, 1.5, 2.0, 2.2, 1.8]\n",
    "sample5 = np.random.choice(AA, size=40)\n",
    "mean_sample5 = np.mean(sample5)\n",
    "#Chuẩn bị các thông số\n",
    "n = sample5.size\n",
    "degree_of_freedom = n - 1\n",
    "confidence_value = 0.95\n",
    "t_score = stats.norm.ppf(confidence_value, degree_of_freedom)\n",
    "standard_error = 0.3 / math.sqrt(n)\n",
    "error_margin = t_score * standard_error\n",
    "print('Biên độ lỗi với độ tin cậy là 95%: {}'.format(error_margin))"
   ]
  },
  {
   "cell_type": "code",
   "execution_count": 21,
   "metadata": {
    "colab": {
     "base_uri": "https://localhost:8080/"
    },
    "id": "fimE-BjWUb6x",
    "outputId": "393945c4-3ab8-4dd8-8d3c-866151489788"
   },
   "outputs": [
    {
     "name": "stdout",
     "output_type": "stream",
     "text": [
      "Biên độ lỗi với độ tin cậy là 95%: 8.527682402196792\n"
     ]
    }
   ],
   "source": [
    "#Cau b\n",
    "AA = [2.1, 1.8, 2.0, 2.3, 1.7, 1.5, 2.0, 2.2, 1.8]\n",
    "sample5 = np.random.choice(AA, size=40)\n",
    "mean_sample5 = np.mean(sample5)\n",
    "#Chuẩn bị các thông số\n",
    "n = sample5.size\n",
    "degree_of_freedom = n - 1\n",
    "confidence_value = 0.95\n",
    "t_score = stats.t.ppf(confidence_value, degree_of_freedom)\n",
    "standard_error = sample2.std(ddof=n-1) / math.sqrt(n)\n",
    "error_margin = t_score * standard_error\n",
    "print('Biên độ lỗi với độ tin cậy là 95%: {}'.format(error_margin))"
   ]
  }
 ],
 "metadata": {
  "colab": {
   "name": "Lab5_TKMTUD.ipynb",
   "provenance": []
  },
  "kernelspec": {
   "display_name": "Python 3",
   "language": "python",
   "name": "python3"
  },
  "language_info": {
   "codemirror_mode": {
    "name": "ipython",
    "version": 3
   },
   "file_extension": ".py",
   "mimetype": "text/x-python",
   "name": "python",
   "nbconvert_exporter": "python",
   "pygments_lexer": "ipython3",
   "version": "3.8.5"
  }
 },
 "nbformat": 4,
 "nbformat_minor": 4
}
